{
  "nbformat": 4,
  "nbformat_minor": 2,
  "metadata": {
    "interpreter": {
      "hash": "31f2aee4e71d21fbe5cf8b01ff0e069b9275f58929596ceb00d14d90e3e16cd6"
    },
    "kernelspec": {
      "display_name": "Python 3.6.9 64-bit",
      "name": "python3"
    },
    "language_info": {
      "codemirror_mode": {
        "name": "ipython",
        "version": 3
      },
      "file_extension": ".py",
      "mimetype": "text/x-python",
      "name": "python",
      "nbconvert_exporter": "python",
      "pygments_lexer": "ipython3",
      "version": "3.6.9"
    },
    "orig_nbformat": 4,
    "colab": {
      "name": "demo.ipynb",
      "provenance": []
    }
  },
  "cells": [
    {
      "cell_type": "code",
      "execution_count": 1,
      "source": [
        "import hdnet\n",
        "import numpy as np\n",
        "import scipy.io as spio\n",
        "import matplotlib.pyplot as plt"
      ],
      "outputs": [],
      "metadata": {
        "id": "HpE96kqLMvyl"
      }
    },
    {
      "cell_type": "code",
      "execution_count": 2,
      "source": [
        "Js = spio.loadmat('data/exp2/Jexp2.mat')\n",
        "Js = Js['Js']\n",
        "thetas = spio.loadmat('data/exp2/Theta_exp2.mat')\n",
        "thetas = thetas['Thetas']"
      ],
      "outputs": [],
      "metadata": {
        "id": "dzEplGa5Mvym"
      }
    },
    {
      "cell_type": "markdown",
      "source": [
        "## Generating Spike Train from ```First``` Trial, and only first ```15 Neurons```, of the fitted parameters"
      ],
      "metadata": {}
    },
    {
      "cell_type": "code",
      "execution_count": 30,
      "source": [
        "true_spikes = hdnet.spikes.Spikes(spikes=hdnet.sampling.sample_from_ising_gibbs(J=Js[0,:15,:15], theta=thetas[0,:15], \n",
        "num_samples = 10**3, burn_in = 5*10**2, sampling_steps = 10**2))\n",
        "print(true_spikes._spikes.shape)"
      ],
      "outputs": [
        {
          "output_type": "stream",
          "name": "stdout",
          "text": [
            "(1, 15, 1000)\n"
          ]
        }
      ],
      "metadata": {
        "id": "JtWppENVMvyn"
      }
    },
    {
      "cell_type": "markdown",
      "source": [
        "### Using Method in ```Spikes``` for finding frequencies of codewords in sampled spiketrain"
      ],
      "metadata": {}
    },
    {
      "cell_type": "code",
      "execution_count": 5,
      "source": [
        "print(true_spikes.get_frequencies())"
      ],
      "outputs": [
        {
          "output_type": "stream",
          "name": "stdout",
          "text": [
            "Counter({'000000000000000': 335, '000010000000000': 172, '000000000000010': 99, '000010000000010': 41, '100000000000000': 36, '001010000000010': 24, '001000000000010': 22, '000000000001010': 20, '000000000001000': 19, '010000000000000': 17, '001010000000000': 17, '000000010000000': 16, '010010000000000': 11, '100000000000010': 11, '000000100000000': 9, '000010000001000': 8, '000000010000010': 8, '010000000000010': 8, '000001000000000': 8, '100010000000000': 7, '001000000000000': 6, '000010010000000': 6, '000000000000100': 6, '000010100000000': 5, '010010000000010': 4, '100010000000010': 4, '000010000001010': 4, '001000000001010': 4, '001010100000010': 4, '001000100000010': 4, '000010010000010': 4, '001000000000100': 4, '000001000000010': 2, '000000100000010': 2, '000011000000000': 2, '010000010000000': 2, '000010100001000': 2, '011000000000010': 2, '000000110000000': 2, '000010000000100': 2, '001010000001010': 2, '100000000001010': 2, '100000000001000': 2, '001010000000100': 2, '100010000001000': 2, '000010100000010': 2, '001000010000010': 1, '011010000000000': 1, '000010000000110': 1, '101000000000010': 1, '000001010000000': 1, '011000000000000': 1, '000000010001000': 1, '001000100000000': 1, '001010100001010': 1, '010000010000010': 1, '001011000000010': 1, '001010000000110': 1, '011010000000010': 1, '000001000001010': 1, '010010010000000': 1, '000001100000000': 1, '001010100000000': 1, '100000010000000': 1, '011010010001010': 1, '011000010000010': 1, '010000010001010': 1, '000000010000100': 1, '010010010000010': 1, '100001000000000': 1, '000011100000000': 1, '001010010000010': 1, '110000000000010': 1, '001010000001000': 1, '101000000001010': 1})\n"
          ]
        }
      ],
      "metadata": {
        "id": "3Mx8WrQbMvyq",
        "outputId": "baffecd6-6a1d-4421-fdb5-e0f2a7990954"
      }
    },
    {
      "cell_type": "markdown",
      "source": [
        "## Generating Spike Train from ```Second``` Trial, and only first ```15 Neurons```, of the fitted parameters"
      ],
      "metadata": {}
    },
    {
      "cell_type": "code",
      "execution_count": 31,
      "source": [
        "pred_spikes = hdnet.spikes.Spikes(spikes=hdnet.sampling.sample_from_ising_gibbs(J=Js[2,:15,:15], theta=thetas[2,:15], \n",
        "num_samples = 10**3, burn_in = 5*10**2, sampling_steps = 10**2))\n",
        "print(pred_spikes._spikes.shape)"
      ],
      "outputs": [
        {
          "output_type": "stream",
          "name": "stdout",
          "text": [
            "(1, 15, 1000)\n"
          ]
        }
      ],
      "metadata": {
        "id": "Q2qppAADMvyr"
      }
    },
    {
      "cell_type": "markdown",
      "source": [
        "### Using Method in ```Spikes``` for finding frequencies of codewords in sampled spiketrain"
      ],
      "metadata": {}
    },
    {
      "cell_type": "code",
      "execution_count": 9,
      "source": [
        "print(pred_spikes.get_frequencies())"
      ],
      "outputs": [
        {
          "output_type": "stream",
          "name": "stdout",
          "text": [
            "Counter({'000000000000000': 331, '000010000000000': 181, '000000000000010': 153, '000010000000010': 56, '100000000000000': 37, '000000000001000': 25, '000000010000000': 22, '010000000000000': 15, '100010000000000': 15, '001000000000010': 15, '001000000000000': 13, '010000000000010': 12, '000000100000000': 10, '100000000000010': 9, '010010000000000': 8, '000010010000000': 8, '000001000000000': 7, '000010000001000': 7, '000000000001010': 6, '010010000000010': 6, '000010010000010': 5, '100000000001000': 4, '000000010000010': 4, '000010000001010': 4, '001000000001010': 4, '000011000000000': 4, '100010000000010': 4, '000000000000100': 3, '000010000000100': 3, '000010100000000': 2, '010001000000000': 2, '000010000000110': 2, '010000010000000': 2, '010000000001000': 2, '011010000000000': 2, '010010010000010': 2, '001010000000010': 2, '010000010000010': 1, '000010100001000': 1, '110000000000010': 1, '001000010000000': 1, '000000000000110': 1, '011000000000010': 1, '001010000000000': 1, '000010100000010': 1, '100011000000000': 1, '010011000000010': 1, '100000000001010': 1, '001000010000010': 1, '010001000000010': 1})\n"
          ]
        }
      ],
      "metadata": {
        "id": "_DHNTvArMvys",
        "outputId": "70102258-20bd-43e5-9c12-fa48dc325114"
      }
    },
    {
      "cell_type": "markdown",
      "source": [
        "## Using ```LogProbabilityRatio``` Validation between fitted spiketrains"
      ],
      "metadata": {}
    },
    {
      "cell_type": "code",
      "execution_count": 37,
      "source": [
        "logp = hdnet.spikes_model_validation.LogProbabilityRatio(\n",
        "    true_spikes,pred_spikes)\n",
        "print(logp.call())"
      ],
      "outputs": [
        {
          "output_type": "stream",
          "name": "stdout",
          "text": [
            "{'000000000000010': 0.0, '000000100000010': -0.6931471805599453, '000000000000000': 0.1708690630621668, '000010100000000': -1.0986122886681098, '000010000001010': -2.0794415416798357, '000000000001000': -0.16034265007517937, '010010010000000': -1.0986122886681098, '001000000001010': -0.6931471805599453, '001000000000000': 0.6286086594223741, '010010000000000': 0.5389965007326869, '100000000000010': -0.2682639865946794, '000001000000000': -0.5108256237659907, '000010000000000': 0.006644542718668511, '010000000000010': 1.0986122886681098, '000000000000100': 1.3862943611198906, '000000000001010': -0.9555114450274363, '010010000000010': 0.6931471805599453, '000000010000010': 0.9808292530117262, '000001000001000': 0.0, '100000000000000': 0.2336148511815051, '101000000000010': -1.0986122886681098, '001000010000010': -0.6931471805599453, '000010100000010': 0.0, '001000000000010': -0.2719337154836418, '000000100000000': 0.6190392084062235, '000010010000000': 0.7731898882334817, '000010010000010': -0.6931471805599453, '010000000000000': 0.17185025692665923, '010000010000000': -1.791759469228055, '000000010001000': -0.6931471805599453, '000010000000100': 1.3862943611198906, '000010000001000': 0.47000362924573563, '001000000001000': 1.0986122886681098, '001010000000010': -1.6094379124341003, '001010000000000': -0.2231435513142097, '000011000000000': 0.0, '001010100000010': -2.0794415416798357, '000010000000110': -0.40546510810816444, '010000010000010': 0.0, '100000000001010': -1.6094379124341003, '100010000000010': -0.40546510810816444, '000010000000010': 0.1365755350057507, '000000010000000': -0.1466034741918754, '100010000000000': 0.0}\n"
          ]
        }
      ],
      "metadata": {
        "id": "O5igb8InMvyt"
      }
    },
    {
      "cell_type": "markdown",
      "source": [
        "## Using ```MostFrequentCommonCode``` Validation between fitted spiketrains"
      ],
      "metadata": {}
    },
    {
      "cell_type": "code",
      "execution_count": 32,
      "source": [
        "freqc = hdnet.spikes_model_validation.MostFrequentCommonCode(\n",
        "    true_spikes,pred_spikes)\n",
        "print(\"Common Codes: \"+str(len(freqc.call(50)))+\" in Top 50 Codes\")"
      ],
      "outputs": [
        {
          "output_type": "stream",
          "name": "stdout",
          "text": [
            "Common Codes: 34 in Top 50 Codes\n"
          ]
        }
      ],
      "metadata": {
        "id": "1PIrT9e-Mvyt"
      }
    },
    {
      "cell_type": "markdown",
      "source": [
        "## Calculating Means, Correlation and Higher Order Interactions between a single predicted spiketrain"
      ],
      "metadata": {}
    },
    {
      "cell_type": "markdown",
      "source": [
        "### First Order"
      ],
      "metadata": {}
    },
    {
      "cell_type": "code",
      "execution_count": 36,
      "source": [
        "first_order = pred_spikes.NOrderInteractions(N=1)\n",
        "print(first_order.shape)\n",
        "print(first_order[0])"
      ],
      "outputs": [
        {
          "output_type": "stream",
          "name": "stdout",
          "text": [
            "(1, 15)\n",
            "[0.078 0.054 0.057 0.    0.279 0.012 0.02  0.053 0.    0.    0.    0.047\n",
            " 0.011 0.243 0.   ]\n"
          ]
        }
      ],
      "metadata": {}
    },
    {
      "cell_type": "markdown",
      "source": [
        "Test"
      ],
      "metadata": {}
    },
    {
      "cell_type": "code",
      "execution_count": 16,
      "source": [
        "print(pred_spikes.mean_activity())"
      ],
      "outputs": [
        {
          "output_type": "stream",
          "name": "stdout",
          "text": [
            "[0.072 0.056 0.04  0.    0.316 0.016 0.014 0.046 0.    0.    0.    0.054\n",
            " 0.009 0.293 0.   ]\n"
          ]
        }
      ],
      "metadata": {}
    },
    {
      "cell_type": "markdown",
      "source": [
        "### Second Order"
      ],
      "metadata": {}
    },
    {
      "cell_type": "code",
      "execution_count": 29,
      "source": [
        "second_order = pred_spikes.NOrderInteractions(N=2)\n",
        "print(np.shape(second_order))\n",
        "plt.matshow(second_order[0])\n",
        "plt.show()"
      ],
      "outputs": [
        {
          "output_type": "stream",
          "name": "stderr",
          "text": [
            "/usr/local/lib/python3.6/dist-packages/hdnet-0.1-py3.6.egg/hdnet/spikes.py:472: RuntimeWarning: invalid value encountered in true_divide\n",
            "  single_centered_scaled_spikes = (self._spikes[i].T - mu)/sd\n"
          ]
        },
        {
          "output_type": "stream",
          "name": "stdout",
          "text": [
            "(1, 15, 15)\n"
          ]
        },
        {
          "output_type": "display_data",
          "data": {
            "text/plain": [
              "<Figure size 288x288 with 1 Axes>"
            ],
            "image/png": "[encoded data removed]"
          },
          "metadata": {
            "needs_background": "light"
          }
        }
      ],
      "metadata": {}
    },
    {
      "cell_type": "markdown",
      "source": [
        "Test"
      ],
      "metadata": {}
    },
    {
      "cell_type": "code",
      "execution_count": 19,
      "source": [
        "scaled_spikes = hdnet.spikes.Spikes(pred_spikes.scale_and_center())\n",
        "print(np.mean(scaled_spikes._spikes,axis=2))\n",
        "print(np.std(scaled_spikes._spikes,axis=2))\n",
        "print(np.shape(scaled_spikes._spikes))\n",
        "plt.matshow(scaled_spikes.covariance()[0])"
      ],
      "outputs": [
        {
          "output_type": "stream",
          "name": "stdout",
          "text": [
            "[[-2.48689958e-17 -1.59872116e-17 -5.24025268e-17  0.00000000e+00\n",
            "   0.00000000e+00 -3.10862447e-17  1.24344979e-17 -1.95399252e-17\n",
            "   0.00000000e+00  0.00000000e+00  0.00000000e+00  1.77635684e-17\n",
            "  -3.19744231e-17  6.75015599e-17  0.00000000e+00]]\n",
            "[[1. 1. 1. 0. 1. 1. 1. 1. 0. 0. 0. 1. 1. 1. 0.]]\n",
            "(1, 15, 1000)\n"
          ]
        },
        {
          "output_type": "execute_result",
          "data": {
            "text/plain": [
              "<matplotlib.image.AxesImage at 0x7f1088242f60>"
            ]
          },
          "metadata": {},
          "execution_count": 19
        },
        {
          "output_type": "display_data",
          "data": {
            "text/plain": [
              "<Figure size 288x288 with 1 Axes>"
            ],
            "image/png": "[encoded data removed]"
          },
          "metadata": {
            "needs_background": "light"
          }
        }
      ],
      "metadata": {}
    },
    {
      "cell_type": "markdown",
      "source": [
        "### Third Order"
      ],
      "metadata": {}
    },
    {
      "cell_type": "code",
      "execution_count": 28,
      "source": [
        "third_order = pred_spikes.NOrderInteractions(N=3)\n",
        "print(np.shape(third_order))\n",
        "plt.matshow(third_order[0][1])\n",
        "plt.show()"
      ],
      "outputs": [
        {
          "output_type": "stream",
          "name": "stdout",
          "text": [
            "(1, 15, 15, 15)\n"
          ]
        },
        {
          "output_type": "display_data",
          "data": {
            "text/plain": [
              "<Figure size 288x288 with 1 Axes>"
            ],
            "image/png": "[encoded data removed]"
          },
          "metadata": {
            "needs_background": "light"
          }
        }
      ],
      "metadata": {}
    },
    {
      "cell_type": "markdown",
      "source": [
        "# Validation Examples"
      ],
      "metadata": {}
    },
    {
      "cell_type": "markdown",
      "source": [
        "## 1. Plot Log Probability Ratios of codewords in ```true_spikes``` and ```pred_spikes``` against frequencies in ```true_spikes```"
      ],
      "metadata": {}
    },
    {
      "cell_type": "code",
      "execution_count": 55,
      "source": [
        "NEURONS = 15\n",
        "NUM_SAMPLES = 10**4"
      ],
      "outputs": [],
      "metadata": {}
    },
    {
      "cell_type": "code",
      "execution_count": 56,
      "source": [
        "true_spikes = hdnet.spikes.Spikes(spikes=hdnet.sampling.sample_from_ising_gibbs(J=Js[0,:NEURONS,:NEURONS], theta=thetas[0,:NEURONS], \n",
        "num_samples = NUM_SAMPLES, burn_in = 5*10**2, sampling_steps = 10**2))\n",
        "pred_spikes = hdnet.spikes.Spikes(spikes=hdnet.sampling.sample_from_ising_gibbs(J=Js[2,:NEURONS,:NEURONS], theta=thetas[2,:NEURONS], \n",
        "num_samples = NUM_SAMPLES, burn_in = 5*10**2, sampling_steps = 10**2))"
      ],
      "outputs": [],
      "metadata": {}
    },
    {
      "cell_type": "code",
      "execution_count": 57,
      "source": [
        "freqs_true = true_spikes.get_frequencies()\n",
        "logp = hdnet.spikes_model_validation.LogProbabilityRatio(\n",
        "    true_spikes,pred_spikes)\n",
        "ratios = logp.call()"
      ],
      "outputs": [],
      "metadata": {}
    },
    {
      "cell_type": "code",
      "execution_count": 58,
      "source": [
        "x = []\n",
        "y = []\n",
        "for code,ratio in ratios.items():\n",
        "    x.append(ratio)\n",
        "    y.append(freqs_true[code])\n",
        "\n",
        "plt.scatter(y,x)\n",
        "plt.show()"
      ],
      "outputs": [
        {
          "output_type": "display_data",
          "data": {
            "text/plain": [
              "<Figure size 432x288 with 1 Axes>"
            ],
            "image/png": "[encoded data removed]"
          },
          "metadata": {
            "needs_background": "light"
          }
        }
      ],
      "metadata": {}
    },
    {
      "cell_type": "markdown",
      "source": [
        "## 2. Compare intersection of most frequently occurring codewords in ```true_spikes``` and ```pred_spikes```"
      ],
      "metadata": {}
    },
    {
      "cell_type": "code",
      "execution_count": 59,
      "source": [
        "freqc = hdnet.spikes_model_validation.MostFrequentCommonCode(\n",
        "    true_spikes,pred_spikes)\n",
        "print(\"Common Codes: \"+str(len(freqc.call(500)))+\" in Top 500 Codes\")"
      ],
      "outputs": [
        {
          "output_type": "stream",
          "name": "stdout",
          "text": [
            "Common Codes: 101 in Top 500 Codes\n"
          ]
        }
      ],
      "metadata": {}
    },
    {
      "cell_type": "markdown",
      "source": [
        "## 3. Plot C<sub>ij</sub> for neurons  in ```true_spikes``` and ```pred_spikes```"
      ],
      "metadata": {}
    },
    {
      "cell_type": "code",
      "execution_count": 63,
      "source": [
        "true_second_order = true_spikes.NOrderInteractions(N=2)[0]\n",
        "pred_second_order = pred_spikes.NOrderInteractions(N=2)[0]"
      ],
      "outputs": [],
      "metadata": {}
    },
    {
      "cell_type": "code",
      "execution_count": 65,
      "source": [
        "x = []\n",
        "y = []\n",
        "\n",
        "for i in range(NEURONS):\n",
        "    for j in range(i+1,NEURONS):\n",
        "        x.append(true_second_order[i][j])\n",
        "        y.append(pred_second_order[i][j])"
      ],
      "outputs": [],
      "metadata": {}
    },
    {
      "cell_type": "code",
      "execution_count": 72,
      "source": [
        "fig, ax = plt.subplots()\n",
        "ax.scatter(x, y)\n",
        "lims = [\n",
        "    np.min([ax.get_xlim(), ax.get_ylim()]), \n",
        "    np.max([ax.get_xlim(), ax.get_ylim()]),\n",
        "]\n",
        "ax.plot(lims, lims, 'k-')\n",
        "ax.set_aspect('equal')\n",
        "ax.set_xlim(lims)\n",
        "ax.set_ylim(lims)\n",
        "plt.show()"
      ],
      "outputs": [
        {
          "output_type": "display_data",
          "data": {
            "text/plain": [
              "<Figure size 432x288 with 1 Axes>"
            ],
            "image/png": "[encoded data removed]"
          },
          "metadata": {
            "needs_background": "light"
          }
        }
      ],
      "metadata": {}
    },
    {
      "cell_type": "code",
      "execution_count": null,
      "source": [],
      "outputs": [],
      "metadata": {}
    }
  ]
}