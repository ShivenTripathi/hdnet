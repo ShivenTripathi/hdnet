{
 "cells": [
  {
   "cell_type": "code",
   "execution_count": 1,
   "source": [
    "import hdnet\n",
    "import numpy as np\n",
    "import scipy.io as spio\n",
    "import matplotlib.pyplot as plt\n",
    "from tqdm import tqdm"
   ],
   "outputs": [],
   "metadata": {}
  },
  {
   "cell_type": "code",
   "execution_count": 2,
   "source": [
    "Js = spio.loadmat('data/exp2/Jexp2.mat')\n",
    "Js = Js['Js']\n",
    "thetas = spio.loadmat('data/exp2/Theta_exp2.mat')\n",
    "thetas = thetas['Thetas']"
   ],
   "outputs": [],
   "metadata": {}
  },
  {
   "cell_type": "code",
   "execution_count": 3,
   "source": [
    "NEURONS = 15\n",
    "NUM_SAMPLES = 3*10**4\n",
    "BURN_IN = 5*10**3"
   ],
   "outputs": [],
   "metadata": {}
  },
  {
   "cell_type": "code",
   "execution_count": 6,
   "source": [
    "samples = hdnet.sampling.sample_from_ising_metropolis(J=0.5*Js[0,:NEURONS,:NEURONS], \n",
    "theta=-thetas[0,:NEURONS], k=0.01, burn_in=BURN_IN,num_samples=NUM_SAMPLES)\n",
    "print(np.shape(samples))\n",
    "print(type(samples))"
   ],
   "outputs": [
    {
     "output_type": "stream",
     "name": "stdout",
     "text": [
      "(15, 30000)\n",
      "<class 'numpy.ndarray'>\n"
     ]
    }
   ],
   "metadata": {}
  },
  {
   "cell_type": "code",
   "execution_count": 8,
   "source": [
    "metro = hdnet.spikes.Spikes(samples)\n",
    "print(metro)\n",
    "print(metro.get_frequencies())"
   ],
   "outputs": [
    {
     "output_type": "stream",
     "name": "stdout",
     "text": [
      "<Spikes: 15 neurons, 30000 bins, 1 trials>\n",
      "Counter({'000000000000000': 14035, '000000000000010': 3768, '000010000000000': 3728, '100000000000000': 1452, '000000010000000': 1078, '000010000000010': 1046, '010000000000000': 633, '000000000001000': 342, '100010000000000': 336, '000000000001010': 292, '010000000000010': 276, '000000100000000': 264, '100000000000010': 234, '000000010000010': 200, '100000000001000': 168, '000001000000000': 140, '001000000000000': 118, '100010000000010': 108, '010010010000000': 108, '010010000000000': 107, '010000000001010': 107, '010010000000010': 105, '000010010000000': 99, '000010000001000': 91, '001000000000010': 90, '010000010000000': 83, '000001010000000': 79, '001010000000010': 79, '100000000001010': 76, '000010010000010': 68, '000000110001000': 68, '000011000000000': 60, '000000010000100': 56, '000010000001010': 52, '111000000001000': 43, '000000010001010': 41, '101010000000010': 40, '010000010001000': 35, '110000000000000': 33, '000010010000100': 32, '001000010000000': 31, '001011000000010': 26, '010001000000010': 20, '110000010001000': 16, '100000100000000': 15, '000000000000110': 15, '010000010001010': 15, '000010000000100': 14, '000010100000010': 11, '001010000000000': 10, '001010010000000': 9, '101000000000010': 9, '000001000001010': 8, '000000010001000': 7, '100000010000000': 7, '100010000001000': 5, '110010000000010': 5, '001000100000010': 5, '111000000001010': 2})\n"
     ]
    }
   ],
   "metadata": {}
  },
  {
   "cell_type": "code",
   "execution_count": 9,
   "source": [
    "m_second_order = metro.NOrderInteractions(N=2)\n",
    "print(np.shape(m_second_order))\n",
    "plt.matshow(m_second_order[0],cmap='gray')\n",
    "plt.show()"
   ],
   "outputs": [
    {
     "output_type": "stream",
     "name": "stderr",
     "text": [
      "/usr/local/lib/python3.6/dist-packages/hdnet-0.1-py3.6.egg/hdnet/spikes.py:472: RuntimeWarning: invalid value encountered in true_divide\n",
      "  single_centered_scaled_spikes = (self._spikes[i].T - mu)/sd\n"
     ]
    },
    {
     "output_type": "stream",
     "name": "stdout",
     "text": [
      "(1, 15, 15)\n"
     ]
    },
    {
     "output_type": "display_data",
     "data": {
      "text/plain": [
       "<Figure size 288x288 with 1 Axes>"
      ],
      "image/png": "[encoded data removed]"
     },
     "metadata": {
      "needs_background": "light"
     }
    }
   ],
   "metadata": {}
  },
  {
   "cell_type": "code",
   "execution_count": 4,
   "source": [
    "def runMonteCarlo(J,theta,k=0.01, burn_in=500, tot_time=10000):\n",
    "\tn = len(theta)\n",
    "\tsamples=[]\n",
    "\txold = np.asarray([int(i) for i in np.binary_repr(np.random.randint(0,np.power(2,n)),n)])\n",
    "\tEold = -np.inner(theta,xold)+np.inner(xold,np.dot(J,xold))\n",
    "\tpm = np.exp(-k*np.arange(1,n)); pm /= np.sum(pm)\n",
    "\tmean = np.zeros(n)\n",
    "\tcorr = np.zeros([n,n])\n",
    "\tfor t in tqdm(range(burn_in+tot_time)):\n",
    "\t\tm = np.random.choice(n-1,size=1,p=pm)+1\n",
    "\t\tfoo = np.random.choice(n,size=m,replace=False)\n",
    "\t\txnew = np.zeros(n)\n",
    "\t\tfor i in range(n):\n",
    "\t\t\tif i in foo:\n",
    "\t\t\t\txnew[i] = 1-xold[i]\n",
    "\t\t\telse:\n",
    "\t\t\t\txnew[i] = xold[i]\n",
    "\t\tEnew = np.inner(-theta,xnew)+np.inner(xnew,np.dot(J,xnew))\n",
    "\t\tdE = Enew-Eold\n",
    "\t\tacceptance_ratio = np.exp(-dE)\n",
    "\t\tu = np.random.uniform()\n",
    "\t\tif u<acceptance_ratio:\n",
    "\t\t\tEold = Enew\n",
    "\t\t\tif t>burn_in-1:\n",
    "\t\t\t\tmean += xnew\n",
    "\t\t\t\tcorr += np.outer(xnew,xnew)\n",
    "\t\t\t\tsamples.append(xnew)\n",
    "\t\t\txold = xnew\n",
    "\t\telse:\n",
    "\t\t\tif t>burn_in-1:\n",
    "\t\t\t\tmean += xold\n",
    "\t\t\t\tcorr += np.outer(xold,xold)\n",
    "\t\t\t\tsamples.append(xold)\n",
    "\tmean /= tot_time\n",
    "\tcorr /= tot_time\n",
    "\treturn mean, corr,samples"
   ],
   "outputs": [],
   "metadata": {}
  },
  {
   "cell_type": "code",
   "execution_count": 19,
   "source": [
    "samples = runMonteCarlo(J=0.5*Js[0,:NEURONS,:NEURONS], \n",
    "theta=-thetas[0,:NEURONS], k=0.01, burn_in=BURN_IN, \n",
    "tot_time=NUM_SAMPLES)\n",
    "print(np.shape(samples))\n",
    "print(type(samples))"
   ],
   "outputs": [
    {
     "output_type": "stream",
     "name": "stderr",
     "text": [
      "100%|██████████| 35000/35000 [00:05<00:00, 6874.37it/s]"
     ]
    },
    {
     "output_type": "stream",
     "name": "stdout",
     "text": [
      "(15, 30000)\n",
      "<class 'numpy.ndarray'>\n"
     ]
    },
    {
     "output_type": "stream",
     "name": "stderr",
     "text": [
      "\n"
     ]
    }
   ],
   "metadata": {}
  },
  {
   "cell_type": "code",
   "execution_count": 5,
   "source": [
    "mean, corr,samples = runMonteCarlo(J=0.5*Js[0,:NEURONS,:NEURONS], \n",
    "theta=-thetas[0,:NEURONS], k=0.01, burn_in=BURN_IN, \n",
    "tot_time=NUM_SAMPLES)\n",
    "metro1 = hdnet.spikes.Spikes(np.transpose(np.asarray(samples)))\n",
    "print(metro1)\n",
    "plt.matshow(corr,cmap='gray')\n",
    "plt.show()"
   ],
   "outputs": [
    {
     "output_type": "stream",
     "name": "stderr",
     "text": [
      "100%|██████████| 35000/35000 [00:05<00:00, 6111.63it/s]\n"
     ]
    },
    {
     "output_type": "stream",
     "name": "stdout",
     "text": [
      "<Spikes: 15 neurons, 30000 bins, 1 trials>\n"
     ]
    },
    {
     "output_type": "display_data",
     "data": {
      "text/plain": [
       "<Figure size 288x288 with 1 Axes>"
      ],
      "image/png": "[encoded data removed]"
     },
     "metadata": {
      "needs_background": "light"
     }
    }
   ],
   "metadata": {}
  },
  {
   "cell_type": "code",
   "execution_count": 6,
   "source": [
    "print(metro1.get_frequencies())"
   ],
   "outputs": [
    {
     "output_type": "stream",
     "name": "stdout",
     "text": [
      "Counter({'000000000000000': 13301, '000010000000000': 3279, '000000000000010': 2404, '000010000000010': 1589, '100000000000000': 701, '000000000001000': 695, '010000000000000': 540, '000000010000000': 485, '100010000000010': 391, '000000010000010': 359, '000010010000000': 325, '100000000000010': 313, '100010000000000': 292, '001000000000000': 255, '001010000000010': 248, '000000100000000': 234, '100000000001000': 227, '000000000001010': 219, '000010000000100': 215, '000001000000010': 207, '000000000000100': 200, '000010000001000': 189, '010000000000010': 181, '000010010000010': 179, '001010000001010': 159, '001000010000000': 159, '001000000001010': 140, '000010000001010': 124, '110000000000000': 122, '100010000001000': 121, '001000010000010': 117, '000001000000000': 116, '100001000000000': 113, '110000010000000': 106, '000010100000000': 101, '100000010000000': 87, '000001100000000': 86, '000001000001010': 83, '000000100001000': 79, '001011000000010': 78, '000000000000110': 76, '011000010000010': 73, '010000000000100': 71, '010010010000010': 62, '100000000001010': 57, '001010010000110': 55, '010001000000000': 50, '010010100000000': 49, '110000000000010': 37, '001011000000000': 36, '001010100000000': 34, '000000010001010': 32, '000001010000000': 32, '110000010001000': 32, '000000010001000': 31, '010010000000000': 29, '010001000000010': 26, '000010010001010': 26, '110000000001000': 26, '001000100000000': 25, '001010000000000': 25, '100000000000100': 24, '000000010000110': 21, '001000000001000': 19, '100010000000100': 19, '001010010000010': 16, '001001100000010': 15, '000010100000010': 15, '100000100000000': 15, '000000010000100': 14, '110001000000010': 13, '001001000001010': 13, '000001100000010': 12, '000000110000000': 12, '000010100001010': 11, '000010110000000': 9, '000001010000010': 8, '001010010001010': 8, '000001010001010': 8, '000000100000010': 8, '010000010000010': 8, '111010010000000': 6, '000001100001010': 5, '010011000000000': 5, '100010000001010': 4, '010000100000010': 4, '001000000000010': 2, '100001000001000': 1, '101010010000000': 1, '010000010001010': 1})\n"
     ]
    }
   ],
   "metadata": {}
  },
  {
   "cell_type": "code",
   "execution_count": 7,
   "source": [
    "m_second_order = metro1.NOrderInteractions(N=2)\n",
    "print(np.shape(m_second_order))\n",
    "plt.matshow(m_second_order[0],cmap='gray')\n",
    "plt.show()"
   ],
   "outputs": [
    {
     "output_type": "stream",
     "name": "stdout",
     "text": [
      "(1, 15, 15)\n"
     ]
    },
    {
     "output_type": "stream",
     "name": "stderr",
     "text": [
      "/usr/local/lib/python3.6/dist-packages/hdnet-0.1-py3.6.egg/hdnet/spikes.py:472: RuntimeWarning: invalid value encountered in true_divide\n",
      "  single_centered_scaled_spikes = (self._spikes[i].T - mu)/sd\n"
     ]
    },
    {
     "output_type": "display_data",
     "data": {
      "text/plain": [
       "<Figure size 288x288 with 1 Axes>"
      ],
      "image/png": "[encoded data removed]"
     },
     "metadata": {
      "needs_background": "light"
     }
    }
   ],
   "metadata": {}
  },
  {
   "cell_type": "code",
   "execution_count": 10,
   "source": [
    "true_spikes = hdnet.spikes.Spikes(spikes=hdnet.sampling.sample_from_ising_gibbs(J=0.5*Js[0,:NEURONS,:NEURONS], \n",
    "theta=-thetas[0,:NEURONS], num_samples = NUM_SAMPLES, burn_in = 5*10**2, sampling_steps = 10**2))\n",
    "t_samples=true_spikes._spikes\n",
    "print(true_spikes)"
   ],
   "outputs": [
    {
     "output_type": "stream",
     "name": "stdout",
     "text": [
      "<Spikes: 15 neurons, 30000 bins, 1 trials>\n"
     ]
    }
   ],
   "metadata": {}
  },
  {
   "cell_type": "code",
   "execution_count": 11,
   "source": [
    "true_spikes_second_order = true_spikes.NOrderInteractions(N=2)\n",
    "print(np.shape(m_second_order))\n",
    "plt.matshow(m_second_order[0],cmap='gray')\n",
    "plt.show()"
   ],
   "outputs": [
    {
     "output_type": "stream",
     "name": "stdout",
     "text": [
      "(1, 15, 15)\n"
     ]
    },
    {
     "output_type": "display_data",
     "data": {
      "text/plain": [
       "<Figure size 288x288 with 1 Axes>"
      ],
      "image/png": "[encoded data removed]"
     },
     "metadata": {
      "needs_background": "light"
     }
    }
   ],
   "metadata": {}
  },
  {
   "cell_type": "code",
   "execution_count": 13,
   "source": [
    "def explicit(J,theta): # can be used if number of neurons is less than 21\n",
    "\tn = len(theta)\n",
    "\t#J = J[:n,:n]\n",
    "\t#theta = theta[:n]\n",
    "\t#\n",
    "\tcorr_model = np.zeros([n,n])\n",
    "\tmean_model = np.zeros(n)\n",
    "\tZ = 0\n",
    "\tfor i in tqdm(range(np.power(2,n))):\n",
    "\t\tx = np.asarray([int(j) for j in np.binary_repr(i,width=n)])\n",
    "\t\tE = np.inner(theta,x)+np.inner(x,np.dot(J,x))\n",
    "\t\tcorr_model += np.outer(x,x)*np.exp(-E)\n",
    "\t\tmean_model += x*np.exp(-E)\n",
    "\t\tZ += np.exp(-E)\n",
    "\tcorr_model /= Z\n",
    "\tmean_model /= Z\n",
    "\treturn mean_model, corr_model"
   ],
   "outputs": [],
   "metadata": {}
  },
  {
   "cell_type": "code",
   "execution_count": 16,
   "source": [
    "m1,c1=explicit(J=Js[0,:NEURONS,:NEURONS], theta=thetas[0,:NEURONS])\n",
    "plt.matshow(c1,cmap='gray')"
   ],
   "outputs": [
    {
     "output_type": "stream",
     "name": "stderr",
     "text": [
      "100%|██████████| 32768/32768 [00:01<00:00, 25596.26it/s]\n"
     ]
    },
    {
     "output_type": "execute_result",
     "data": {
      "text/plain": [
       "<matplotlib.image.AxesImage at 0x7f22a91474a8>"
      ]
     },
     "metadata": {},
     "execution_count": 16
    },
    {
     "output_type": "display_data",
     "data": {
      "text/plain": [
       "<Figure size 288x288 with 1 Axes>"
      ],
      "image/png": "[encoded data removed]"
     },
     "metadata": {
      "needs_background": "light"
     }
    }
   ],
   "metadata": {}
  },
  {
   "cell_type": "code",
   "execution_count": null,
   "source": [],
   "outputs": [],
   "metadata": {}
  }
 ],
 "metadata": {
  "orig_nbformat": 4,
  "language_info": {
   "name": "python"
  }
 },
 "nbformat": 4,
 "nbformat_minor": 2
}